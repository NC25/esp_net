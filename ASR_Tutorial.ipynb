{
  "nbformat": 4,
  "nbformat_minor": 0,
  "metadata": {
    "colab": {
      "provenance": [],
      "authorship_tag": "ABX9TyOIMR6+98zVdzM8n3cuSo40",
      "include_colab_link": true
    },
    "kernelspec": {
      "name": "python3",
      "display_name": "Python 3"
    },
    "language_info": {
      "name": "python"
    }
  },
  "cells": [
    {
      "cell_type": "markdown",
      "metadata": {
        "id": "view-in-github",
        "colab_type": "text"
      },
      "source": [
        "<a href=\"https://colab.research.google.com/github/NC25/esp_net/blob/main/ASR_Tutorial.ipynb\" target=\"_parent\"><img src=\"https://colab.research.google.com/assets/colab-badge.svg\" alt=\"Open In Colab\"/></a>"
      ]
    },
    {
      "cell_type": "markdown",
      "source": [
        "Dependecy Setup"
      ],
      "metadata": {
        "id": "Xs0A1NbiqBr0"
      }
    },
    {
      "cell_type": "code",
      "execution_count": null,
      "metadata": {
        "id": "R_Vg3j-9pr7p"
      },
      "outputs": [],
      "source": [
        "!sudo apt-get install bc tree"
      ]
    },
    {
      "cell_type": "code",
      "source": [
        "!cat /etc/os-release"
      ],
      "metadata": {
        "id": "ZULT2_HVp1lr"
      },
      "execution_count": null,
      "outputs": []
    },
    {
      "cell_type": "code",
      "source": [
        "!git clone https://github.com/espnet/espnet"
      ],
      "metadata": {
        "id": "UuU05T2zp6qL"
      },
      "execution_count": null,
      "outputs": []
    },
    {
      "cell_type": "code",
      "source": [
        "!cd espnet; pip install -e ."
      ],
      "metadata": {
        "id": "LV40qZtwp9Wt"
      },
      "execution_count": null,
      "outputs": []
    },
    {
      "cell_type": "markdown",
      "source": [
        "Tutorial"
      ],
      "metadata": {
        "id": "W6xQ7TxRLwAl"
      }
    },
    {
      "cell_type": "code",
      "source": [
        "!sudo apt update"
      ],
      "metadata": {
        "id": "0Gk19cEwLp-D"
      },
      "execution_count": null,
      "outputs": []
    },
    {
      "cell_type": "code",
      "source": [
        "!git clone https://github.com/AssemblyAI-Examples/intro-to-espnet.git"
      ],
      "metadata": {
        "id": "vHNz0qF7MD_g"
      },
      "execution_count": null,
      "outputs": []
    },
    {
      "cell_type": "code",
      "source": [
        "cd intro-to-espnet"
      ],
      "metadata": {
        "id": "4u6WyLhEMIOi"
      },
      "execution_count": null,
      "outputs": []
    },
    {
      "cell_type": "code",
      "source": [
        "!virtualenv venv -p /usr/bin/python3.6\n",
        "!source venv/bin/activate\n",
        "!pip install --no-cache-dir -r requirements.txt"
      ],
      "metadata": {
        "id": "zRtEBm1OMOip"
      },
      "execution_count": null,
      "outputs": []
    },
    {
      "cell_type": "code",
      "source": [
        "!python3 -m /content/intro-to-espnet/speech2text.py"
      ],
      "metadata": {
        "id": "_9nHRDYYMVkn"
      },
      "execution_count": null,
      "outputs": []
    },
    {
      "cell_type": "markdown",
      "source": [
        "Code"
      ],
      "metadata": {
        "id": "o4zql_V1NMbl"
      }
    },
    {
      "cell_type": "code",
      "source": [
        "import subprocess as s\n",
        "import os\n",
        "import string\n",
        "import soundfile\n",
        "from espnet_model_zoo.downloader import ModelDownloader\n",
        "from espnet2.bin.asr_inference import Speech2Text"
      ],
      "metadata": {
        "id": "K5RCd75cMqtw"
      },
      "execution_count": null,
      "outputs": []
    },
    {
      "cell_type": "markdown",
      "source": [
        "Download pretrained model"
      ],
      "metadata": {
        "id": "qY4QFqGvP_jO"
      }
    },
    {
      "cell_type": "code",
      "source": [
        "tag = \"Shinji Watanabe/librispeech_asr_train_asr_transformer_e18_raw_bpe_sp_valid.acc.best\"\n",
        "d = ModelDownloader()\n",
        "speech2text = Speech2Text(\n",
        "    **d.download_and_unpack(tag),\n",
        "    device=\"cpu\", #cuda if gpu\n",
        "    minlenratio=0.0,\n",
        "    maxlenratio=0.0,\n",
        "    ctc_weight=0.3,\n",
        "    beam_size=10,\n",
        "    batch_size=0,\n",
        "    nbest=1\n",
        ")"
      ],
      "metadata": {
        "id": "Z-DG78nVNOeh"
      },
      "execution_count": null,
      "outputs": []
    },
    {
      "cell_type": "code",
      "source": [
        "#capitalize all the text and remove punctuation"
      ],
      "metadata": {
        "id": "JbgRrZO-RpnD"
      },
      "execution_count": null,
      "outputs": []
    },
    {
      "cell_type": "code",
      "source": [
        "def text_normalizer(text):\n",
        "    text = text.upper()\n",
        "    return text.translate(str.maketrans('', '', string.punctuation))"
      ],
      "metadata": {
        "id": "U_07y4pVQDHw"
      },
      "execution_count": null,
      "outputs": []
    },
    {
      "cell_type": "markdown",
      "source": [
        "\n",
        "\n",
        "\n",
        "\n",
        "*   return transcripts given an audio filepath\n",
        "*   soundfile.read() reads in our audio data, and then speech2text predicts the speech.\n",
        "*    isolate the best prediction with nbests[0] and then return\n",
        "\n",
        "\n",
        "\n"
      ],
      "metadata": {
        "id": "yss2czKvSdHD"
      }
    },
    {
      "cell_type": "code",
      "source": [
        "def get_transcript(path):\n",
        "    speech, rate = soundfile.read(path)\n",
        "    nbests = speech2text(speech)\n",
        "    text, *_ = nbests[0]\n",
        "    return text, rate"
      ],
      "metadata": {
        "id": "DXOPa0nYR3sY"
      },
      "execution_count": null,
      "outputs": []
    },
    {
      "cell_type": "markdown",
      "source": [
        "Convert raw file into wave file, since function runs with wav files"
      ],
      "metadata": {
        "id": "0EdxBBanzE5i"
      }
    },
    {
      "cell_type": "code",
      "source": [
        "\n",
        "\n",
        "path = os.path.join(os.getcwd(), 'egs')\n",
        "files = os.listdir(path+'/audio')\n",
        "\n",
        "\n",
        "\n",
        "for file in files:\n",
        "    if not file.endswith('.wav'):\n",
        "        os.chdir(path+'/audio')\n",
        "        s.run(f\"ffmpeg -i {file} {file.split('.')[0]}.wav\", shell=True, check=True, universal_newlines=False)\n",
        "        os.chdir('../..')\n",
        "        file = file.split('.')[0]+'.wav'\n",
        "        \n",
        "        # Transcribe and delete generated file\n",
        "        text, est_rate = get_transcript(f'{path}/audio/{file}')\n",
        "        os.remove(f'{path}/audio/{file}')\n",
        "    else:\n",
        "        text, est_rate = get_transcript(f'{path}/audio/{file}')"
      ],
      "metadata": {
        "id": "iX7cvgC8R_bF"
      },
      "execution_count": null,
      "outputs": []
    },
    {
      "cell_type": "code",
      "source": [
        "    #prepare actual transcript\n",
        "    label_file = file.split('.')[0]+'.txt'\n",
        "    with open(f'{path}/text/{label_file}', 'r') as f:\n",
        "        true_text = f.readline()\n",
        "    # Print true transcript and hypothesis\n",
        "    print(f\"\\n\\nReference text: {true_text}\")\n",
        "    print(f\"ASR hypothesis: {text_normalizer(text)}\\n\\n\")"
      ],
      "metadata": {
        "id": "MJ3H-oa7SMln"
      },
      "execution_count": null,
      "outputs": []
    }
  ]
}